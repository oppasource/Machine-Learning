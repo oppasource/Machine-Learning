{
 "cells": [
  {
   "cell_type": "markdown",
   "metadata": {},
   "source": [
    "# Regularized Linear Regression\n",
    "\n",
    "If we go on increasing the powers of input features(like the model shown with the equation below), we get more flexibility and hence the model may give 100% accuracy for training set but this may lead to overfit. \n",
    "\n",
    "$$ \\theta_0 + \\theta_1x + \\theta_2x^2 + \\theta_3x^3 + \\theta_4x^4 $$\n",
    "\n",
    "Regularization is used to overcome the problem of overfit. Usually the problem of overfit occurs due to large values of model parameters after training. We reduce these values of parameter by adding another term in the cost function(cosisting of parameters) so that it gets minimized as well. \n",
    "\n",
    "$$ min_\\theta\\ \\dfrac{1}{2m}\\  \\sum_{i=1}^m (h_\\theta(x^{(i)}) - y^{(i)})^2 + \\lambda\\ \\sum_{j=1}^n \\theta_j^2 $$\n",
    "\n",
    "In the above cost function, thetas are the parameter of the model. We added the last term so we can minimize that as well. Lambda is called the regularization parameter, it determines how much the value of parameters must be penalized. This is the basic intuition of regularization.\n",
    "\n",
    "If we derivate the above cost function w.r.t the parameters and use gradient descent, we get the following results,\n",
    "\n",
    "$$\\begin{align*} & \\text{Repeat}\\ \\lbrace \\newline & \\ \\ \\ \\ \\theta_0 := \\theta_0 - \\alpha\\ \\frac{1}{m}\\ \\sum_{i=1}^m (h_\\theta(x^{(i)}) - y^{(i)})x_0^{(i)} \\newline & \\ \\ \\ \\ \\theta_j := \\theta_j - \\alpha\\ \\left[ \\left( \\frac{1}{m}\\ \\sum_{i=1}^m (h_\\theta(x^{(i)}) - y^{(i)})x_j^{(i)} \\right) + \\frac{\\lambda}{m}\\theta_j \\right] &\\ \\ \\ \\ \\ \\ \\ \\ \\ \\ j \\in \\lbrace 1,2...n\\rbrace\\newline & \\rbrace \\end{align*}$$\n",
    "\n",
    "Note that we dont apply regularization of the 0th parameter because we do not want to penalize $\\theta_0$.\n",
    "\n",
    "First we will create a toy dataset to demostrate this. We will first see how overfit takes place, then we will use regularization and notice the difference."
   ]
  },
  {
   "cell_type": "code",
   "execution_count": 25,
   "metadata": {},
   "outputs": [
    {
     "data": {
      "image/png": "[encoded data removed]",
      "text/plain": [
       "<matplotlib.figure.Figure at 0xa7448a2c>"
      ]
     },
     "metadata": {},
     "output_type": "display_data"
    }
   ],
   "source": [
    "%matplotlib inline\n",
    "\n",
    "import matplotlib\n",
    "import numpy as np\n",
    "import matplotlib.pyplot as plt\n",
    "\n",
    "import warnings\n",
    "warnings.simplefilter(action='ignore', category=FutureWarning)\n",
    "\n",
    "x = np.array([[2, 3, 4, 5, 6]]).T\n",
    "y = np.array([[11, 10, 17, 19, 19.5]]).T\n",
    "\n",
    "plt.scatter(x,y)\n",
    "plt.show()"
   ]
  },
  {
   "cell_type": "markdown",
   "metadata": {},
   "source": [
    "The below function returns a training set matrix which has been added with a column of ones in the begining for 0th power term in the model. The subsequent columns of this matrix are higher powers of the original training set. "
   ]
  },
  {
   "cell_type": "code",
   "execution_count": 38,
   "metadata": {
    "collapsed": true
   },
   "outputs": [],
   "source": [
    "def init_xtrain(x,order,num_instances):\n",
    "    \n",
    "    x_train = np.hstack((np.ones((num_instances,1)),x))\n",
    "    \n",
    "    for i in range(order-1):\n",
    "        x_train = np.hstack((x_train, x**(i+2)))\n",
    "    \n",
    "    return x_train"
   ]
  },
  {
   "cell_type": "markdown",
   "metadata": {},
   "source": [
    "We will use Normal Equation method to fit the model and also to implement regularization. The normal equation without regularization for finding weights to fit out model is given as,\n",
    "\n",
    "$$   \\theta = (X^TX)^{-1} X^Ty  $$\n",
    "\n",
    "We have also printed out the weights and we can see the magnitude is relatively larger than the regularized weights. The plot shows overfit, now we will use regularization to overcome this."
   ]
  },
  {
   "cell_type": "code",
   "execution_count": 108,
   "metadata": {},
   "outputs": [
    {
     "name": "stdout",
     "output_type": "stream",
     "text": [
      "[[ 171.5       ]\n",
      " [-183.20833334]\n",
      " [  72.3125    ]\n",
      " [ -11.79166667]\n",
      " [   0.6875    ]]\n"
     ]
    },
    {
     "data": {
      "image/png": "[encoded data removed]",
      "text/plain": [
       "<matplotlib.figure.Figure at 0xa5f2b52c>"
      ]
     },
     "metadata": {},
     "output_type": "display_data"
    }
   ],
   "source": [
    "num_instances = x.shape[0]\n",
    "order = 4\n",
    "\n",
    "x_train = init_xtrain(x,order,num_instances)\n",
    "\n",
    "weights = np.matmul(np.matmul(np.linalg.inv((np.matmul(x_train.T , x_train))), x_train.T), y)\n",
    "\n",
    "x_test_series = np.asarray([np.arange(2,6,0.0001)]).T\n",
    "x_test = init_xtrain(x_test_series, order,x_test_series.shape[0])\n",
    "h = np.matmul(x_test, weights)\n",
    "\n",
    "print(weights)\n",
    "\n",
    "plt.scatter(x,y)\n",
    "plt.plot(x_test_series,h)\n",
    "plt.show()"
   ]
  },
  {
   "cell_type": "markdown",
   "metadata": {},
   "source": [
    "For regularized linear regression, the normal equation looks like,\n",
    " \n",
    "$$\\begin{align*}& \\theta = \\left( X^TX + \\lambda \\cdot L \\right)^{-1} X^Ty \\newline& \\text{where}\\ \\ L = \\begin{bmatrix} 0 & & & & \\newline & 1 & & & \\newline & & 1 & & \\newline & & & \\ddots & \\newline & & & & 1 \\newline\\end{bmatrix}\\end{align*}$$\n",
    "\n",
    "Here size of L is (n+1)x(n+1) where n is the order."
   ]
  },
  {
   "cell_type": "code",
   "execution_count": 107,
   "metadata": {},
   "outputs": [
    {
     "name": "stdout",
     "output_type": "stream",
     "text": [
      "[[  9.04338218e+00]\n",
      " [  7.32484096e-03]\n",
      " [  4.91910942e-02]\n",
      " [  1.75514604e-01]\n",
      " [ -2.22150537e-02]]\n"
     ]
    },
    {
     "data": {
      "image/png": "[encoded data removed]",
      "text/plain": [
       "<matplotlib.figure.Figure at 0xa72e476c>"
      ]
     },
     "metadata": {},
     "output_type": "display_data"
    }
   ],
   "source": [
    "lamb = 100\n",
    "e = np.eye(order)\n",
    "L = np.hstack((np.zeros((order,1)) , e ))\n",
    "L = np. vstack((np.zeros((1,order+1)), L))\n",
    "\n",
    "weights = np.matmul(np.matmul(np.linalg.inv((np.matmul(x_train.T , x_train)) + lamb * L ), x_train.T), y)\n",
    "\n",
    "print(weights)\n",
    "\n",
    "x_test_series = np.asarray([np.arange(2,6,0.0001)]).T\n",
    "x_test = init_xtrain(x_test_series, order,x_test_series.shape[0])\n",
    "h = np.matmul(x_test, weights)\n",
    "\n",
    "plt.scatter(x,y)\n",
    "plt.plot(x_test_series,h)\n",
    "plt.show()"
   ]
  },
  {
   "cell_type": "markdown",
   "metadata": {},
   "source": [
    "As seen above, the weights are relatively of less magnitude and hence we get a smoother curve which is not an overfit.\n",
    "\n",
    "## Regularization Parameter\n",
    "\n",
    "Lambda defines as to how much the paramters should be inflated. \n",
    "\n",
    "If the value of lambda is very less then it is as good as saying there is no regularization at all and hence overfit takes place.\n",
    "\n",
    "If the value of lambda is very large then parameters get inflated to a greater extent. We can see from the very first equation of this notebook if all the parameters tend to 0 only first parameter $\\theta_0$ will remain leading to underfit.\n",
    "\n",
    "# Conclusion\n",
    "\n",
    "Here as there was only one feature, we can visualize it easily, but as number of features increases it becomes difficult to visualize the same. Hence we cant say if ovrfit is taking place by looking at the graphs. Therefore its a good practice to use regularization to avoid overfit.\n",
    "\n",
    "However its important to select the regularization parameter carefully as a bad choice may lead to problems discussed above.\n",
    "\n",
    "We can also add regularization to logistic regression by adding the last term to its loss function."
   ]
  }
 ],
 "metadata": {
  "kernelspec": {
   "display_name": "Python 3",
   "language": "python",
   "name": "python3"
  },
  "language_info": {
   "codemirror_mode": {
    "name": "ipython",
    "version": 3
   },
   "file_extension": ".py",
   "mimetype": "text/x-python",
   "name": "python",
   "nbconvert_exporter": "python",
   "pygments_lexer": "ipython3",
   "version": "3.4.3"
  }
 },
 "nbformat": 4,
 "nbformat_minor": 2
}
